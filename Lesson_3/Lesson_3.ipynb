{
 "cells": [
  {
   "cell_type": "code",
   "execution_count": 31,
   "metadata": {},
   "outputs": [],
   "source": [
    "from pymongo import MongoClient\n",
    "from bs4 import BeautifulSoup as bs\n",
    "import requests\n",
    "import re\n",
    "from pprint import pprint"
   ]
  },
  {
   "cell_type": "markdown",
   "metadata": {},
   "source": [
    "### 1 Необходимо собрать информацию о вакансиях на вводимую должность (используем input или через аргументы) с сайта hh.ru"
   ]
  },
  {
   "cell_type": "code",
   "execution_count": 317,
   "metadata": {},
   "outputs": [],
   "source": [
    "def query(link,params={}):\n",
    "    \"\"\"\n",
    "    Функция содержит общие параметры необходимые для запроса. \n",
    "    link – хранит ссылку на сайт, на который адресован запрос.\n",
    "    params  - необязательный параметр, содержит передаваемые параметры, параметры можно передать и в ссылке link, а params оставить не заполненным.\n",
    "    Возвращает функция DOM дерево.\n",
    "    \"\"\"\n",
    "    header = {'User-Agent':'Mozilla/5.0 (Windows NT 10.0; Win64; x64) AppleWebKit/537.36 (KHTML, like Gecko) Chrome/83.0.4103.106 Safari/537.36',\n",
    "          'Accept':'*/*'}\n",
    "    if params:\n",
    "        response = requests.get(link,headers=header,params=params)\n",
    "        print(response.url)\n",
    "        response = response.text\n",
    "    else:\n",
    "        response = requests.get(link,headers=header).text\n",
    "   \n",
    "    soup = bs(response,'lxml')    \n",
    "    return soup\n",
    "\n",
    "\n",
    "\n",
    "def getSalary(s):\n",
    "    \n",
    "    \"\"\"\n",
    "    Функция обрабатывает строки содержащие величину заработной платы и возвращает dist, содержащий цены в структурированном виде.\n",
    "    \"\"\"\n",
    "    \n",
    "    obj = {\"min\":None,\n",
    "           \"max\":None,\n",
    "           \"currency_unit\":None\n",
    "          }\n",
    "    if not s:\n",
    "        return obj\n",
    "    q = re.sub('\\s*', \"\", s)\n",
    "    result = re.findall(r'([^0-9]*)(?:(\\d*)\\W)*(\\d+)(\\w+)', q)\n",
    "    if result:\n",
    "        result = result[0]\n",
    "        obj[\"currency_unit\"] = result[3].upper()\n",
    "        if result[0].upper() == \"от\".upper():        \n",
    "            obj[\"min\"] = float(result[2])\n",
    "        elif result[0].upper() == \"до\".upper():      \n",
    "            obj[\"max\"] = float(result[2])\n",
    "        elif result[0] == \"\":\n",
    "            obj[\"min\"] = float(result[1])\n",
    "            obj[\"max\"] = float(result[2])           \n",
    "    return obj\n",
    "    \n"
   ]
  },
  {
   "cell_type": "code",
   "execution_count": 318,
   "metadata": {},
   "outputs": [],
   "source": [
    "main_link = 'https://murmansk.hh.ru/search/vacancy?text=data+scientist'\n",
    "base_link = 'https://murmansk.hh.ru'\n",
    "params = {'L_is_autosearch':'false',\n",
    "            'clusters':'true',\n",
    "            'enable_snippets':'true',           \n",
    "            'page':0}"
   ]
  },
  {
   "cell_type": "code",
   "execution_count": 319,
   "metadata": {},
   "outputs": [
    {
     "name": "stdout",
     "output_type": "stream",
     "text": [
      "https://murmansk.hh.ru/search/vacancy?text=data+scientist&L_is_autosearch=false&clusters=true&enable_snippets=true&page=0\n",
      "50\n",
      "https://murmansk.hh.ru/search/vacancy?text=data+scientist&L_is_autosearch=false&clusters=true&enable_snippets=true&page=1\n",
      "50\n",
      "https://murmansk.hh.ru/search/vacancy?text=data+scientist&L_is_autosearch=false&clusters=true&enable_snippets=true&page=2\n",
      "50\n",
      "https://murmansk.hh.ru/search/vacancy?text=data+scientist&L_is_autosearch=false&clusters=true&enable_snippets=true&page=3\n",
      "50\n",
      "https://murmansk.hh.ru/search/vacancy?text=data+scientist&L_is_autosearch=false&clusters=true&enable_snippets=true&page=4\n",
      "50\n",
      "https://murmansk.hh.ru/search/vacancy?text=data+scientist&L_is_autosearch=false&clusters=true&enable_snippets=true&page=5\n",
      "50\n",
      "https://murmansk.hh.ru/search/vacancy?text=data+scientist&L_is_autosearch=false&clusters=true&enable_snippets=true&page=6\n",
      "39\n"
     ]
    }
   ],
   "source": [
    "hh = []\n",
    "while True:\n",
    "    soup = query(link=main_link,params=params)\n",
    "    vacancy_serpclass = soup.find('div', {'class':'vacancy-serp'})\n",
    "    vacancies = vacancy_serpclass.select(\".vacancy-serp-item\")\n",
    "    pprint(len(vacancies))    \n",
    "    button = soup.find('a', {\"data-qa\":\"pager-next\"})#кнопка ДАЛЕЕ    \n",
    "    \n",
    "    for item in vacancies:\n",
    "        a = item.find('a', {\"data-qa\":\"vacancy-serp__vacancy-title\"})\n",
    "        site = item.find('a', {\"data-qa\":\"vacancy-serp__vacancy-employer\"})        \n",
    "        salary = item.find('span', {\"data-qa\":\"vacancy-serp__vacancy-compensation\"})\n",
    "        salary = salary.text if salary else None\n",
    "        salary = getSalary(salary)\n",
    "        obj = {'specialty':a.string,\n",
    "               'salary_max':salary['max'],\n",
    "               'salary_min':salary['min'],\n",
    "               'salary_unit':salary['currency_unit'],\n",
    "               'link':a.get(\"href\"),\n",
    "               'site':base_link+site.get(\"href\") if site else None,\n",
    "               'site_job':'HH',\n",
    "               '_id':str(re.findall(r'/(\\d+)\\?', a.get(\"href\"))[0])+'hh'}        \n",
    "        f = False\n",
    "        for item in hh:\n",
    "            if item['_id'] == obj['_id']:\n",
    "                f = True\n",
    "                break        \n",
    "        if not f:\n",
    "            hh.append(obj)\n",
    "        \n",
    "    if not button:  #проверяю наличие, кнопку ДАЛЕЕ\n",
    "        break\n",
    "    \n",
    "    params[\"page\"] = params[\"page\"] + 1"
   ]
  },
  {
   "cell_type": "markdown",
   "metadata": {},
   "source": [
    "### 2 Необходимо собрать информацию о вакансиях на вводимую должность (используем input или через аргументы) с сайта superjob.ru"
   ]
  },
  {
   "cell_type": "code",
   "execution_count": 320,
   "metadata": {},
   "outputs": [
    {
     "name": "stdout",
     "output_type": "stream",
     "text": [
      "https://russia.superjob.ru/vakansii/programmist-python.html?page=1\n"
     ]
    }
   ],
   "source": [
    "main_link = 'https://russia.superjob.ru/vakansii/programmist-python.html'\n",
    "base_link = 'https://russia.superjob.ru'\n",
    "params = {'page':1}\n",
    "soup = query(link=main_link,params=params)"
   ]
  },
  {
   "cell_type": "code",
   "execution_count": 322,
   "metadata": {
    "scrolled": false
   },
   "outputs": [
    {
     "name": "stdout",
     "output_type": "stream",
     "text": [
      "https://russia.superjob.ru/vakansii/programmist-python.html?page=1\n",
      "20\n",
      "https://russia.superjob.ru/vakansii/programmist-python.html?page=2\n",
      "4\n"
     ]
    }
   ],
   "source": [
    "superjob = []\n",
    "while True:\n",
    "    soup = query(link=main_link,params=params)\n",
    "    vacancies = soup.select(\".iJCa5.f-test-vacancy-item._1fma_._1JhPh._2gFpt._1znz6._2nteL\")\n",
    "    pprint(len(vacancies)) \n",
    "    button = soup.select('.icMQ_._1_Cht._3ze9n.f-test-button-dalshe.f-test-link-Dalshe')#кнопка ДАЛЕЕ   \n",
    "    for item in vacancies:\n",
    "        a = item.select(\".icMQ_._6AfZ9\")[0]        \n",
    "        site = item.select('.icMQ_._205Zx')\n",
    "        site = site[0] if site else None        \n",
    "        salary = item.select('._3mfro._2Wp8I.PlM3e._2JVkc._2VHxz')\n",
    "        salary = salary[0].text if salary else None\n",
    "        salary = getSalary(salary)        \n",
    "        obj = {'specialty':a.text,\n",
    "               'salary_max':salary['max'],\n",
    "               'salary_min':salary['min'],\n",
    "               'salary_unit':salary['currency_unit'],\n",
    "               'link':base_link+a.get(\"href\"),\n",
    "               'site':base_link+site.get(\"href\") if site else None,\n",
    "               'site_job':'superjob',\n",
    "               '_id':str(re.findall(r'-(\\d+)\\.', a.get(\"href\"))[0])+'superjob'}\n",
    "        f = False\n",
    "        for item in superjob:\n",
    "            if item['_id'] == obj['_id']:\n",
    "                f = True\n",
    "                break        \n",
    "        if not f:            \n",
    "            superjob.append(obj)\n",
    "    if not button:#проверяю наличие, кнопку ДАЛЕЕ\n",
    "        break\n",
    "    params[\"page\"] = params[\"page\"] + 1"
   ]
  },
  {
   "cell_type": "markdown",
   "metadata": {},
   "source": [
    "# Lesson 3"
   ]
  },
  {
   "cell_type": "code",
   "execution_count": 342,
   "metadata": {},
   "outputs": [],
   "source": [
    "client = MongoClient('localhost', 27017)\n",
    "db = client['vacancies']"
   ]
  },
  {
   "cell_type": "markdown",
   "metadata": {},
   "source": [
    "### 3. Написать  функцию, которая будет добавлять в вашу базу данных только новые вакансии с сайта."
   ]
  },
  {
   "cell_type": "code",
   "execution_count": 363,
   "metadata": {},
   "outputs": [],
   "source": [
    "def add_new_vacancies(obj_vacancies, obj_base):\n",
    "    '''\n",
    "    Функция принимает список вакансий dist. и объект базы данных, в которую будут сохраняться вакансии.\n",
    "    '''\n",
    "    res_vacancies = [s['_id'] for s in obj_vacancies]\n",
    "    base_vacancies = list(obj_base.find({}))    \n",
    "    res_base = [s['_id'] for s in base_vacancies]\n",
    "    res_vacancies_set = set(res_vacancies)\n",
    "    res_base_set = set(res_base)\n",
    "    new_vacancies = res_vacancies_set - res_base_set\n",
    "    \n",
    "   \n",
    "    res_base_vacancies = []\n",
    "    res_superjob = []\n",
    "    \n",
    "    for item in obj_vacancies:        \n",
    "        if item[\"_id\"] in new_vacancies:            \n",
    "            res_base_vacancies.append(item)\n",
    "    if res_base_vacancies:\n",
    "        obj_base.insert_many(res_base_vacancies)\n",
    "        print(f\"В базу добавленно {len(res_base_vacancies)} записей\")\n"
   ]
  },
  {
   "cell_type": "code",
   "execution_count": 366,
   "metadata": {},
   "outputs": [
    {
     "data": {
      "text/plain": [
       "<pymongo.results.DeleteResult at 0x19b10a93c88>"
      ]
     },
     "execution_count": 366,
     "metadata": {},
     "output_type": "execute_result"
    }
   ],
   "source": [
    "#db.hh.delete_many({})\n",
    "#db.superjob.delete_many({})"
   ]
  },
  {
   "cell_type": "markdown",
   "metadata": {},
   "source": [
    "### 1. реализовать функцию, записывающую собранные вакансии в созданную БД"
   ]
  },
  {
   "cell_type": "code",
   "execution_count": 367,
   "metadata": {},
   "outputs": [
    {
     "name": "stdout",
     "output_type": "stream",
     "text": [
      "В базу добавленно 297 записей\n"
     ]
    }
   ],
   "source": [
    "add_new_vacancies(hh,db.hh)"
   ]
  },
  {
   "cell_type": "code",
   "execution_count": 368,
   "metadata": {},
   "outputs": [
    {
     "name": "stdout",
     "output_type": "stream",
     "text": [
      "В базу добавленно 24 записей\n"
     ]
    }
   ],
   "source": [
    "add_new_vacancies(superjob,db.superjob)"
   ]
  },
  {
   "cell_type": "markdown",
   "metadata": {},
   "source": [
    "### 2. Написать  функцию,  которая  производит  поиск  и  выводит  на  экран  вакансии  с  заработной платой больше введённой суммы"
   ]
  },
  {
   "cell_type": "code",
   "execution_count": null,
   "metadata": {},
   "outputs": [],
   "source": [
    "def get_wage(num): \n",
    "    '''\n",
    "    функция, которая производит поиск и выводит на экран вакансии с заработной платой больше введённой суммы num\n",
    "    '''\n",
    "    guery = {\"$or\":[{\"salary_min\":{'$gt':num}},{'salary_min':{\"$gt\":num}}]}\n",
    "    hh = list(db.hh.find(guery))\n",
    "    superjob =list(db.superjob.find(guery))\n",
    "    return hh + superjob\n",
    "    for item in hh:\n",
    "        pprint(item)\n",
    "        "
   ]
  },
  {
   "cell_type": "code",
   "execution_count": null,
   "metadata": {},
   "outputs": [],
   "source": [
    "get_wage(100000)"
   ]
  }
 ],
 "metadata": {
  "kernelspec": {
   "display_name": "Python 3",
   "language": "python",
   "name": "python3"
  },
  "language_info": {
   "codemirror_mode": {
    "name": "ipython",
    "version": 3
   },
   "file_extension": ".py",
   "mimetype": "text/x-python",
   "name": "python",
   "nbconvert_exporter": "python",
   "pygments_lexer": "ipython3",
   "version": "3.7.4"
  }
 },
 "nbformat": 4,
 "nbformat_minor": 2
}
