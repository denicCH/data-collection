{
 "cells": [
  {
   "cell_type": "code",
   "execution_count": null,
   "metadata": {},
   "outputs": [],
   "source": [
    "import requests\n",
    "from pprint import pprint\n",
    "import json\n",
    "import vk"
   ]
  },
  {
   "cell_type": "markdown",
   "metadata": {},
   "source": [
    "### 1 Посмотреть  документацию  к API GitHub, разобраться как вывести список репозиториев для конкретного пользователя, сохранить JSON-вывод в файле *.json."
   ]
  },
  {
   "cell_type": "code",
   "execution_count": null,
   "metadata": {},
   "outputs": [],
   "source": [
    "main_link = 'https://api.github.com/users/Dabreegster/repos'\n",
    "header = {'User-Agent':'Mozilla/5.0 (Windows NT 10.0; Win64; x64) AppleWebKit/537.36 (KHTML, like Gecko) Chrome/83.0.4103.106 Safari/537.36',\n",
    "          'Accept':'*/*'}\n",
    "params = {'type':\"all\"}\n",
    "\n",
    "response = requests.get(main_link,headers=header,params=params)\n",
    "\n",
    "if(response.status_code == 200):\n",
    "    \n",
    "    with open(\"github_repository_Dabreegster.json\", \"w\", encoding='utf-8') as file_1:\n",
    "        data = response.json()\n",
    "        json.dump(data, file_1)\n",
    "        pprint(data)\n",
    "else:\n",
    "    print('Данные небыли получены')"
   ]
  },
  {
   "cell_type": "markdown",
   "metadata": {},
   "source": [
    "### 2 Изучить список открытых API. Найти среди них любое, требующее авторизацию (любого типа). Выполнить запросы к нему, пройдя авторизацию. Ответ сервера записать в файл"
   ]
  },
  {
   "cell_type": "code",
   "execution_count": 28,
   "metadata": {},
   "outputs": [],
   "source": [
    "APP_ID = 75252917788\n",
    "user_login = \"crrrdtrt@gmail.com\"\n",
    "user_password = \"Fvhbk;l;75(\""
   ]
  },
  {
   "cell_type": "code",
   "execution_count": 29,
   "metadata": {},
   "outputs": [],
   "source": [
    "def auth_vk_token():\n",
    "    try:\n",
    "        file = open(\"auth_vk.ini\", 'r')\n",
    "    except IOError as e:\n",
    "        access_token = auth_vk_password().access_token\n",
    "    else:\n",
    "        access_token = file.readline()\n",
    "    session = vk.Session(access_token=access_token)\n",
    "    return session"
   ]
  },
  {
   "cell_type": "code",
   "execution_count": 30,
   "metadata": {},
   "outputs": [],
   "source": [
    "def auth_vk_password():\n",
    "    session = vk.AuthSession(app_id=APP_ID,user_login=user_login,user_password=user_password)    \n",
    "    file = open(\"auth_vk.ini\", 'w')\n",
    "    file.writelines(session.access_token)\n",
    "    return session"
   ]
  },
  {
   "cell_type": "code",
   "execution_count": 47,
   "metadata": {},
   "outputs": [],
   "source": [
    "vkapi = vk.API(auth_vk_password())"
   ]
  },
  {
   "cell_type": "code",
   "execution_count": 73,
   "metadata": {},
   "outputs": [],
   "source": [
    "groups = vkapi.groups.get(user_id=116224838,extended=1,v=5.107)\n",
    " with open(\"res.json\", \"w\", encoding='utf-8') as file_1:\n",
    "        data = response.json()\n",
    "        json.dump(groups, file_1)"
   ]
  }
 ],
 "metadata": {
  "kernelspec": {
   "display_name": "Python 3",
   "language": "python",
   "name": "python3"
  },
  "language_info": {
   "codemirror_mode": {
    "name": "ipython",
    "version": 3
   },
   "file_extension": ".py",
   "mimetype": "text/x-python",
   "name": "python",
   "nbconvert_exporter": "python",
   "pygments_lexer": "ipython3",
   "version": "3.7.4"
  }
 },
 "nbformat": 4,
 "nbformat_minor": 2
}
