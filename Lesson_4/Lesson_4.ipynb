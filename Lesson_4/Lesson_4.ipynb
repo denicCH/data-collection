{
 "cells": [
  {
   "cell_type": "code",
   "execution_count": null,
   "metadata": {},
   "outputs": [],
   "source": [
    "from pymongo import MongoClient\n",
    "from lxml import html\n",
    "import requests\n",
    "from datetime import date, datetime\n",
    "import re\n",
    "import time\n",
    "from pprint import pprint"
   ]
  },
  {
   "cell_type": "code",
   "execution_count": null,
   "metadata": {},
   "outputs": [],
   "source": [
    "def query(link,params={}):\n",
    "    \"\"\"\n",
    "    Функция содержит общие параметры необходимые для запроса. \n",
    "    link – хранит ссылку на сайт, на который адресован запрос.\n",
    "    params  - необязательный параметр, содержит передаваемые параметры, параметры можно передать и в ссылке link, а params оставить не заполненным.\n",
    "    Возвращает функция DOM дерево.\n",
    "    \"\"\"\n",
    "    header = {'User-Agent':'Mozilla/5.0 (Windows NT 10.0; Win64; x64) AppleWebKit/537.36 (KHTML, like Gecko) Chrome/83.0.4103.106 Safari/537.36',\n",
    "          'Accept':'*/*'}    \n",
    "    response = requests.get(link,headers=header,params=params)    \n",
    "    if params:\n",
    "        response = requests.get(link,headers=header,params=params)             \n",
    "    else:\n",
    "        response = requests.get(link,headers=header)    \n",
    "    \n",
    "    dom = html.fromstring(response.text)\n",
    "    return dom\n",
    "\n",
    "def pars_date_yandex(tm):\n",
    "    \"\"\"\n",
    "    Функция возвращает временную метку, состоящую из даты запуска функции и переданного в параметре tm времени\n",
    "    \"\"\"\n",
    "    date1=date.today()\n",
    "    time1=datetime.strptime(tm, '%H:%M')\n",
    "    datetime1=datetime.combine(date1,time1.time())\n",
    "    timestamp = datetime1.timestamp()\n",
    "    return timestamp\n",
    "\n",
    "def pars(s):\n",
    "    \"\"\"\n",
    "    Функция извлекает время из строки s\n",
    "    \"\"\"\n",
    "    res = re.findall(r'(.*)(?:\\s+)(\\d{1,2}:\\d{1,2})', s)\n",
    "    return res[0] if res else ()\n",
    "\n",
    "\n",
    "def retrieved_date_lenta_ru(s):\n",
    "    \"\"\"\n",
    "    Функция извлекает дату из переданной строки s    \n",
    "    \"\"\"\n",
    "    res = re.findall(r'(?:\\/)(\\d{4})\\/(\\d{1,2})\\/(\\d{1,2})', s)\n",
    "    res = [int(i) for i in res[0]] if res else []    \n",
    "    return datetime(year=res[0], month=res[1], day=res[2]).timestamp() if res else None"
   ]
  },
  {
   "cell_type": "markdown",
   "metadata": {},
   "source": [
    "#### Скрапинг новостей с yandex.ru "
   ]
  },
  {
   "cell_type": "code",
   "execution_count": null,
   "metadata": {},
   "outputs": [],
   "source": [
    "main_link = 'https://yandex.ru/news/'\n",
    "base_link = 'https://yandex.ru'\n",
    "res_yandex_ru = []\n",
    "dom = query(main_link)\n",
    "items = dom.xpath(\"//td[@class='stories-set__item']\")\n",
    "for item in items:\n",
    "    info = {'news_link':\"\",\n",
    "        'news_title':\"\",\n",
    "        'news_source':\"\",\n",
    "        'publication_date':''\n",
    "    }\n",
    "    link = item.xpath(\".//a[contains(@class,'link_theme_black')]\")\n",
    "    info['news_title'] = link[0].xpath(\".//text()\")[0]\n",
    "    info['news_link'] = base_link+link[0].xpath(\".//@href\")[0]   \n",
    "    publication_date = pars(item.xpath(\".//div[@class='story__date']/text()\")[0])\n",
    "    info['publication_date'] = pars_date_yandex(publication_date[1]) if len(publication_date) == 2 else None\n",
    "    info['news_source'] = publication_date[0] if len(publication_date) >= 1 else \"\"\n",
    "    res_yandex_ru.append(info)    \n",
    "pprint(len(res_yandex_ru))\n",
    "pprint(res_yandex_ru)"
   ]
  },
  {
   "cell_type": "markdown",
   "metadata": {},
   "source": [
    "#### Скрапинг новостей с lenta.ru "
   ]
  },
  {
   "cell_type": "code",
   "execution_count": null,
   "metadata": {},
   "outputs": [],
   "source": [
    "main_link = 'https://lenta.ru'\n",
    "base_link = 'https://lenta.ru'\n",
    "res_lenta_ru = []\n",
    "dom = query(main_link)\n",
    "\n",
    "items = dom.xpath(\"//section[contains(@class,'js-layout')][1]//a[starts-with(@href,'/news/')][not(img)]/parent::*\")\n",
    "for item in items:\n",
    "    info = {'news_link':\"\",\n",
    "        'news_title':\"\",\n",
    "        'news_source':\"\",\n",
    "        'publication_date':''\n",
    "    }  \n",
    "    link = item.xpath(\".//a\")    \n",
    "    news_title = link[0].xpath(\".//span/text()\")\n",
    "    news_title = news_title[0] if news_title else link[0].xpath(\"normalize-space(text())\")\n",
    "    info['news_title'] = news_title.replace(\"\\xa0\",'') \n",
    "    info['news_link'] = base_link+link[0].xpath(\".//@href\")[0]   \n",
    "    publication_date = retrieved_date_lenta_ru(info['news_link'])\n",
    "    info['publication_date'] = retrieved_date_lenta_ru(info['news_link'])\n",
    "    res_lenta_ru.append(info)\n",
    "\n",
    "pprint(len(res_lenta_ru))  \n",
    "pprint(res_lenta_ru)"
   ]
  },
  {
   "cell_type": "markdown",
   "metadata": {},
   "source": [
    "#### Скрапинг новостей с mail.ru "
   ]
  },
  {
   "cell_type": "code",
   "execution_count": null,
   "metadata": {},
   "outputs": [],
   "source": [
    "main_link = 'https://news.mail.ru/'\n",
    "base_link = 'https://news.mail.ru/'\n",
    "res_mail_ru = []\n",
    "dom = query(main_link)\n",
    "items = dom.xpath(\"//a[contains(@class,'list__text')]|//a[contains(@class,'link_flex')]\")\n",
    "for item in items:\n",
    "    info = {'news_link':\"\",\n",
    "        'news_title':\"\",\n",
    "        'news_source':\"\",\n",
    "        'publication_date':None\n",
    "    }\n",
    "        \n",
    "    news_link = item.xpath(\".//@href\")[0]\n",
    "    info['news_link'] =  news_link if \"http\" in news_link else base_link + news_link      \n",
    "    info['news_title'] = item.xpath(\".//span[contains(@class,'link__text')]/text()\")[0] if item.xpath(\".//span\") else  item.xpath(\".//text()\")[0]   \n",
    "    info['news_title'] = info['news_title'].replace(\"\\xa0\",'') \n",
    "    \n",
    "    i = 0\n",
    "#     Цикл while, в котором реализованна задержка, используется для повторного посещения страницы на которой\n",
    "#     находятся данные (дата публикации новости и название источника новости), так как сайт не все страницы \n",
    "#     отдает с первого раза.\n",
    "\n",
    "    while i < 3:\n",
    "        dom1 = query(info['news_link'])  \n",
    "        item1 = dom1.xpath(\"//div[contains(@class,'breadcrumbs_article')]\")\n",
    "        item1 = item1[0] if item1 else []\n",
    "        if item1:\n",
    "            date_time = item1.xpath(\".//span[@datetime]/@datetime\")\n",
    "            news_source = item1.xpath(\".//span[contains(@class,'link__text')]/text()\")\n",
    "            info['publication_date'] = datetime.fromisoformat(date_time[0]).timestamp()\n",
    "            info['news_source'] = news_source[0]\n",
    "            pprint(info)         \n",
    "        if info['news_source']:            \n",
    "            break\n",
    "        else:            \n",
    "            i = i + 1\n",
    "            time.sleep(1)\n",
    "    res_mail_ru.append(info)    \n",
    "\n",
    "pprint(len(res_mail_ru))   \n",
    "pprint(res_mail_ru)    "
   ]
  },
  {
   "cell_type": "code",
   "execution_count": null,
   "metadata": {},
   "outputs": [],
   "source": [
    "client = MongoClient('localhost', 27017)\n",
    "db = client['news']"
   ]
  },
  {
   "cell_type": "code",
   "execution_count": null,
   "metadata": {},
   "outputs": [],
   "source": [
    "# db.news_yandex.delete_many({})\n",
    "# db.news_mail.delete_many({})\n",
    "# db.news_lenta.delete_many({})"
   ]
  },
  {
   "cell_type": "code",
   "execution_count": null,
   "metadata": {},
   "outputs": [],
   "source": [
    "db.news_yandex.insert_many(res_yandex_ru)\n",
    "db.news_mail.insert_many(res_mail_ru)\n",
    "db.news_lenta.insert_many(res_lenta_ru)"
   ]
  },
  {
   "cell_type": "code",
   "execution_count": null,
   "metadata": {},
   "outputs": [],
   "source": [
    "for item in db.news_yandex.find({}):\n",
    "        pprint(item)\n",
    "        "
   ]
  }
 ],
 "metadata": {
  "kernelspec": {
   "display_name": "Python 3",
   "language": "python",
   "name": "python3"
  },
  "language_info": {
   "codemirror_mode": {
    "name": "ipython",
    "version": 3
   },
   "file_extension": ".py",
   "mimetype": "text/x-python",
   "name": "python",
   "nbconvert_exporter": "python",
   "pygments_lexer": "ipython3",
   "version": "3.7.4"
  }
 },
 "nbformat": 4,
 "nbformat_minor": 2
}
